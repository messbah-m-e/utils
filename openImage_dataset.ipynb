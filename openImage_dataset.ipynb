{
 "cells": [
  {
   "cell_type": "code",
   "execution_count": 1,
   "metadata": {},
   "outputs": [],
   "source": [
    "import os\n",
    "import cv2\n",
    "import shutil\n",
    "import matplotlib.pyplot as plt\n",
    "from tqdm import tqdm"
   ]
  },
  {
   "cell_type": "code",
   "execution_count": 7,
   "metadata": {},
   "outputs": [],
   "source": [
    "add = \"D:\\code\\\\utils\\\\0_all_data\"\n"
   ]
  },
  {
   "cell_type": "markdown",
   "metadata": {},
   "source": [
    "**remove largest**"
   ]
  },
  {
   "cell_type": "code",
   "execution_count": null,
   "metadata": {},
   "outputs": [],
   "source": [
    "for i in (os.listdir(os.path.join(add,\"labels\")))[36500:]:\n",
    "    img_name = os.path.join(add,\"images\",i.split(\".\")[0]+\".jpg\")\n",
    "    img = cv2.imread(img_name)\n",
    "    dh, dw, _ = img.shape\n",
    "\n",
    "    txt_name = os.path.join(add,\"labels\",i) \n",
    "    fl = open(txt_name , 'r')\n",
    "    data = fl.readlines()\n",
    "    fl.close()\n",
    "\n",
    "    flag = 0\n",
    "    print(i)\n",
    "    for dt in data:\n",
    "        _, x, y, w, h = dt.split(' ')\n",
    "        nw = int(float(w)*dw)\n",
    "        nh = int(float(h)*dh)\n",
    "        if (nw>350) and (nh>350):\n",
    "            flag = 1 \n",
    "\n",
    "    if not flag:\n",
    "        shutil.copy(img_name, os.path.join(save_address_images))\n",
    "        shutil.copy(txt_name , os.path.join(save_address_labels))"
   ]
  },
  {
   "cell_type": "markdown",
   "metadata": {},
   "source": [
    "**move all & concat same**"
   ]
  },
  {
   "cell_type": "code",
   "execution_count": 3,
   "metadata": {},
   "outputs": [],
   "source": [
    "import os\n",
    "import cv2\n",
    "import shutil\n",
    "import matplotlib.pyplot as plt\n",
    "import numpy as np"
   ]
  },
  {
   "cell_type": "code",
   "execution_count": 4,
   "metadata": {},
   "outputs": [],
   "source": [
    "address = \"D:\\datasets\\openimages\\data\"\n",
    "names = os.listdir(address)\n",
    "save_add= \"D:\\code\\\\utils\\data\\\\\""
   ]
  },
  {
   "cell_type": "code",
   "execution_count": 6,
   "metadata": {},
   "outputs": [],
   "source": [
    "building = np.array(os.listdir(os.path.join(address,\"building\",\"images\")))\n",
    "castle = np.array(os.listdir(os.path.join(address,\"castle\",\"images\")))\n",
    "house = np.array(os.listdir(os.path.join(address,\"house\",\"images\")))\n",
    "lighthouse = np.array(os.listdir(os.path.join(address,\"lighthouse\",\"images\")))\n",
    "skyscraper = np.array(os.listdir(os.path.join(address,\"skyscraper\",\"images\")))\n",
    "tower = np.array(os.listdir(os.path.join(address,\"tower\",\"images\")))"
   ]
  },
  {
   "cell_type": "markdown",
   "metadata": {},
   "source": [
    "**move all**"
   ]
  },
  {
   "cell_type": "code",
   "execution_count": null,
   "metadata": {},
   "outputs": [],
   "source": [
    "for i in tower:\n",
    "    _address_img = os.path.join(address,\"tower\",\"images\",i)\n",
    "    shutil.copy(_address_img,save_add)\n",
    "    _address_label_1 = os.path.join(address,\"tower\",\"labels\",i.split(\".\")[0])\n",
    "\n",
    "    fl = open(_address_label_1 + \".txt\", 'r')\n",
    "    data_1 = fl.read()\n",
    "    fl.close()\n",
    "\n",
    "    x = os.path.join(\"data\",i.split(\".\")[0]+\".txt\")\n",
    "    file = open(x, \"w+\")\n",
    "    content = data_1\n",
    "    file.write(content)\n",
    "    file.close()"
   ]
  },
  {
   "cell_type": "code",
   "execution_count": null,
   "metadata": {},
   "outputs": [],
   "source": [
    "save_add= \"D:\\code\\\\utils\\data_2\\\\\""
   ]
  },
  {
   "cell_type": "code",
   "execution_count": 84,
   "metadata": {},
   "outputs": [
    {
     "data": {
      "text/plain": [
       "2791"
      ]
     },
     "execution_count": 84,
     "metadata": {},
     "output_type": "execute_result"
    }
   ],
   "source": [
    "names = np.intersect1d(skyscraper,tower)\n",
    "len(names)"
   ]
  },
  {
   "cell_type": "code",
   "execution_count": 85,
   "metadata": {},
   "outputs": [],
   "source": [
    "for i in names:\n",
    "\n",
    "    _address_label_1 = os.path.join(address,\"skyscraper\",\"labels\",i.split(\".\")[0])\n",
    "    _address_label_2 = os.path.join(address,\"tower\",\"labels\",i.split(\".\")[0])\n",
    "\n",
    "    fl = open(_address_label_1 + \".txt\", 'r')\n",
    "    data_1 = fl.read()\n",
    "    fl.close()\n",
    "\n",
    "    f2 = open(_address_label_2 + \".txt\", 'r')\n",
    "    data_2 = f2.read()\n",
    "    f2.close()\n",
    "    \n",
    "    x = os.path.join(\"data_2\",i.split(\".\")[0]+\".txt\")\n",
    "    file = open(x, \"w+\")\n",
    "    content = data_1+data_2\n",
    "    file.write(content)\n",
    "    file.close()\n",
    "    "
   ]
  },
  {
   "cell_type": "code",
   "execution_count": 181,
   "metadata": {},
   "outputs": [],
   "source": [
    "for i in os.listdir(\"data/same\"):\n",
    "    fl = open(\"data/same//\" + i, 'r')\n",
    "    data_1 = fl.read()\n",
    "    fl.close()\n",
    "\n",
    "    f2 = open(\"data/1/\" + i, 'r')\n",
    "    data_2 = f2.read()\n",
    "    f2.close()\n",
    "    \n",
    "    x = os.path.join(\"data\",i.split(\".\")[0]+\".txt\")\n",
    "    file = open(x, \"w+\")\n",
    "    content = data_1+data_2\n",
    "    file.write(content)\n",
    "    file.close()"
   ]
  },
  {
   "cell_type": "code",
   "execution_count": 86,
   "metadata": {},
   "outputs": [],
   "source": [
    "names = os.listdir(\"D:\\code\\\\utils\\data_2\\\\2\")"
   ]
  },
  {
   "cell_type": "code",
   "execution_count": 87,
   "metadata": {},
   "outputs": [],
   "source": [
    "for i in names:\n",
    "\n",
    "    _address_label_1 = \"D:\\code\\\\utils\\data_2\\\\1\\\\\"+i\n",
    "    _address_label_2 = \"D:\\code\\\\utils\\data_2\\\\2\\\\\"+i\n",
    "\n",
    "    fl = open(_address_label_1 , 'r')\n",
    "    data_1 = fl.read()\n",
    "    fl.close()\n",
    "\n",
    "    f2 = open(_address_label_2 , 'r')\n",
    "    data_2 = f2.read()\n",
    "    f2.close()\n",
    "       \n",
    "    x = os.path.join(\"data_2\",i.split(\".\")[0]+\".txt\")\n",
    "    file = open(x, \"w+\")\n",
    "    content = data_1+data_2\n",
    "    file.write(content)\n",
    "    file.close()\n",
    "    "
   ]
  },
  {
   "cell_type": "markdown",
   "metadata": {},
   "source": [
    "**largest to 150**"
   ]
  },
  {
   "cell_type": "code",
   "execution_count": 111,
   "metadata": {},
   "outputs": [],
   "source": [
    "import numpy as np"
   ]
  },
  {
   "cell_type": "code",
   "execution_count": 26,
   "metadata": {},
   "outputs": [],
   "source": [
    "add = \"D:\\code\\\\utils\\\\1_remove_Big - Copy\""
   ]
  },
  {
   "cell_type": "code",
   "execution_count": 27,
   "metadata": {},
   "outputs": [],
   "source": [
    "for i in os.listdir(os.path.join(add,\"labels\")):\n",
    "    img_name = os.path.join(add,\"images\",i.split(\".\")[0]+\".jpg\")\n",
    "\n",
    "    img = cv2.imread(img_name)\n",
    "    dh, dw, _ = img.shape\n",
    "\n",
    "    txt_name = os.path.join(add,\"labels\",i) \n",
    "    fl = open(txt_name , 'r')\n",
    "    data = fl.readlines()\n",
    "    fl.close()\n",
    "\n",
    "    # find largest\n",
    "    bbw = []\n",
    "    bbh = []\n",
    "    for dt in data:\n",
    "        _, x, y, w, h = dt.split(' ')\n",
    "        nw = int(float(w)*dw)\n",
    "        nh = int(float(h)*dh)\n",
    "        bbw.append(nw)\n",
    "        bbh.append(nh)\n",
    "\n",
    "    ratio = 150/max(max(bbw),max(bbh))\n",
    "\n",
    "    resize = cv2.resize(img,(0,0), fx=ratio, fy=ratio)\n",
    "    cv2.imwrite(img_name, resize)\n",
    "\n",
    "    fl = open(txt_name , 'r+')\n",
    "    data = fl.readlines()\n",
    "    dh, dw = dh*ratio,dw*ratio\n",
    "    for dt in data:\n",
    "        _, x, y, w, h = dt.split(' ')\n",
    "        nw = int(float(w)*dw)\n",
    "        nh = int(float(h)*dh)\n",
    "        # print(i)\n",
    "        if int(nw) > 20 or int(nh) > 20:\n",
    "            fl.write(dt)\n",
    "    fl.truncate()\n"
   ]
  },
  {
   "cell_type": "markdown",
   "metadata": {},
   "source": [
    "**rename and move**"
   ]
  },
  {
   "cell_type": "code",
   "execution_count": 45,
   "metadata": {},
   "outputs": [],
   "source": [
    "add = \"D:\\code\\\\utils\\\\1_remove_Big - Copy\"\n",
    "save_address = \"D:\\code\\\\utils\\\\2_largest_to_150\""
   ]
  },
  {
   "cell_type": "code",
   "execution_count": null,
   "metadata": {},
   "outputs": [],
   "source": [
    "for i in tqdm(os.listdir(os.path.join(add,\"images\"))):\n",
    "    name = i.split(\".\")[0]\n",
    "    img_name = os.path.join(add,\"images\",name+\".jpg\")\n",
    "    img = cv2.imread(img_name)\n",
    "    img_name = save_address+\"//images//small_\" + name + \".jpg\"\n",
    "    cv2.imwrite(img_name, img)\n",
    "\n",
    "\n",
    "    txt_name = os.path.join(add,\"labels\",name+\".txt\") \n",
    "    shutil.copy(txt_name , os.path.join(save_address,\"labels\",\"small_\" + name + \".txt\"))\n"
   ]
  }
 ],
 "metadata": {
  "kernelspec": {
   "display_name": "yoloV8",
   "language": "python",
   "name": "python3"
  },
  "language_info": {
   "codemirror_mode": {
    "name": "ipython",
    "version": 3
   },
   "file_extension": ".py",
   "mimetype": "text/x-python",
   "name": "python",
   "nbconvert_exporter": "python",
   "pygments_lexer": "ipython3",
   "version": "3.9.19"
  }
 },
 "nbformat": 4,
 "nbformat_minor": 2
}
