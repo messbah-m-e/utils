{
 "cells": [
  {
   "cell_type": "code",
   "execution_count": null,
   "metadata": {},
   "outputs": [],
   "source": [
    "from sklearn.model_selection import train_test_split\n",
    "import os\n",
    "import shutil"
   ]
  },
  {
   "cell_type": "code",
   "execution_count": null,
   "metadata": {},
   "outputs": [],
   "source": [
    "add_iamges = \"images\"\n",
    "add_labels = \"label\"\n",
    "X = os.listdir(add_iamges)\n",
    "y = os.listdir(add_labels)"
   ]
  },
  {
   "cell_type": "code",
   "execution_count": null,
   "metadata": {},
   "outputs": [],
   "source": [
    "X_train, X_test, y_train, y_test = train_test_split(X, y, test_size=0.20, random_state=33)"
   ]
  },
  {
   "cell_type": "code",
   "execution_count": null,
   "metadata": {},
   "outputs": [],
   "source": [
    "save_address = \"\""
   ]
  },
  {
   "cell_type": "markdown",
   "metadata": {},
   "source": [
    "**for copy**"
   ]
  },
  {
   "cell_type": "code",
   "execution_count": null,
   "metadata": {},
   "outputs": [],
   "source": [
    "for file in X_train:\n",
    "    shutil.copy(os.path.join(add_iamges, file), os.path.join(save_address,\"images\", file))\n",
    "for file in y_train:\n",
    "    shutil.copy(os.path.join(add_iamges, file), os.path.join(save_address,\"labels\", file))\n",
    "\n",
    "\n",
    "for file in X_test:\n",
    "    shutil.copy(os.path.join(add_iamges, file), os.path.join(save_address,\"images\", file))\n",
    "for file in y_test:\n",
    "    shutil.copy(os.path.join(add_iamges, file), os.path.join(save_address,\"labels\", file))"
   ]
  },
  {
   "cell_type": "markdown",
   "metadata": {},
   "source": [
    "**for move**"
   ]
  },
  {
   "cell_type": "code",
   "execution_count": null,
   "metadata": {},
   "outputs": [],
   "source": [
    "for file in X_train:\n",
    "    shutil.move(os.path.join(add_iamges, file), os.path.join(save_address,\"images\", file))\n",
    "for file in y_train:\n",
    "    shutil.move(os.path.join(add_iamges, file), os.path.join(save_address,\"labels\", file))\n",
    "\n",
    "\n",
    "for file in X_test:\n",
    "    shutil.move(os.path.join(add_iamges, file), os.path.join(save_address,\"images\", file))\n",
    "for file in y_test:\n",
    "    shutil.move(os.path.join(add_iamges, file), os.path.join(save_address,\"labels\", file))"
   ]
  }
 ],
 "metadata": {
  "language_info": {
   "name": "python"
  }
 },
 "nbformat": 4,
 "nbformat_minor": 2
}
