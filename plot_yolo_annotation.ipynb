{
 "cells": [
  {
   "cell_type": "code",
   "execution_count": 7,
   "metadata": {},
   "outputs": [],
   "source": [
    "import cv2 \n",
    "import numpy as np\n",
    "import matplotlib.pyplot as plt\n",
    "import os\n",
    "import random"
   ]
  },
  {
   "cell_type": "markdown",
   "metadata": {},
   "source": [
    "**One Image**"
   ]
  },
  {
   "cell_type": "code",
   "execution_count": 12,
   "metadata": {},
   "outputs": [],
   "source": [
    "img_add = \"\"\n",
    "txt_add = \"\""
   ]
  },
  {
   "cell_type": "code",
   "execution_count": null,
   "metadata": {},
   "outputs": [],
   "source": [
    "img = cv2.imread(img_add+\".jpg\")\n",
    "dh, dw, _ = img.shape\n",
    "        \n",
    "fl = open(txt_add+\".txt\", 'r')\n",
    "data = fl.readlines()\n",
    "fl.close()\n",
    "        \n",
    "for dt in data:\n",
    "            \n",
    "    _, x, y, w, h = dt.split(' ')\n",
    "            \n",
    "    nx = int(float(x)*dw)\n",
    "    ny = int(float(y)*dh)\n",
    "    nw = int(float(w)*dw)\n",
    "    nh = int(float(h)*dh)\n",
    "    sx=int(nx-nw/2)\n",
    "    sy=int(ny-nh/2)\n",
    "    ex=int(nx+nw/2)\n",
    "    ey=int(ny+nh/2)\n",
    "            \n",
    "    cv2.rectangle(img, (sx,sy), (ex,ey), (255,0,0), 2)\n",
    "            \n",
    "plt.imshow(img)"
   ]
  },
  {
   "cell_type": "markdown",
   "metadata": {},
   "source": [
    "**folder**"
   ]
  },
  {
   "cell_type": "code",
   "execution_count": 5,
   "metadata": {},
   "outputs": [],
   "source": [
    "add =\"D:\\code\\\\utils\\data\\\\1\\\\\" \n",
    "save_address = \"D:\\code\\\\utils\\data\\\\123\\\\\""
   ]
  },
  {
   "cell_type": "code",
   "execution_count": 8,
   "metadata": {},
   "outputs": [],
   "source": [
    "images = os.listdir(os.path.join(add,\"images\"))\n",
    "for i in range(200):\n",
    "    name = random.choice(images).split(\".\")[0]\n",
    "    image_address = os.path.join(add,\"images\", name)\n",
    "    label_address = os.path.join(add,\"labels\", name)\n",
    "\n",
    "    img = cv2.imread(image_address + \".jpg\")\n",
    "    dh, dw, _ = img.shape\n",
    "        \n",
    "    fl = open(label_address + \".txt\", 'r')\n",
    "    data = fl.readlines()\n",
    "    fl.close()\n",
    "    for dt in data:\n",
    "            \n",
    "        _, x, y, w, h = dt.split(' ')\n",
    "                \n",
    "        nx = int(float(x)*dw)\n",
    "        ny = int(float(y)*dh)\n",
    "        nw = int(float(w)*dw)\n",
    "        nh = int(float(h)*dh)\n",
    "        sx=int(nx-nw/2)\n",
    "        sy=int(ny-nh/2)\n",
    "        ex=int(nx+nw/2)\n",
    "        ey=int(ny+nh/2)\n",
    "                \n",
    "        cv2.rectangle(img, (sx,sy), (ex,ey), (255,0,0), 2)\n",
    "    cv2.imwrite(os.path.join(save_address,name+\".jpg\"), img)"
   ]
  }
 ],
 "metadata": {
  "kernelspec": {
   "display_name": "reid",
   "language": "python",
   "name": "python3"
  },
  "language_info": {
   "codemirror_mode": {
    "name": "ipython",
    "version": 3
   },
   "file_extension": ".py",
   "mimetype": "text/x-python",
   "name": "python",
   "nbconvert_exporter": "python",
   "pygments_lexer": "ipython3",
   "version": "3.9.19"
  }
 },
 "nbformat": 4,
 "nbformat_minor": 2
}
